{
 "cells": [
  {
   "cell_type": "markdown",
   "id": "0be79352",
   "metadata": {},
   "source": [
    "# Hypothesis Testing"
   ]
  },
  {
   "cell_type": "code",
   "execution_count": 1,
   "id": "93dffcf0",
   "metadata": {},
   "outputs": [],
   "source": [
    "#importing the necessary libraires' \n",
    "import pandas as pd\n",
    "import scipy as sc\n",
    "import numpy as np \n",
    "from scipy import stats"
   ]
  },
  {
   "cell_type": "code",
   "execution_count": 2,
   "id": "8bcbec27",
   "metadata": {},
   "outputs": [
    {
     "data": {
      "text/plain": [
       "-38.0"
      ]
     },
     "execution_count": 2,
     "metadata": {},
     "output_type": "execute_result"
    }
   ],
   "source": [
    "# so here it is 1 sample and 1 tail test as we are doing it from one sample data and determinig the weekly cost predicted by the cost model is higher or not\n",
    "t=(3050-4000)/(125/np.sqrt(25))\n",
    "t"
   ]
  },
  {
   "cell_type": "code",
   "execution_count": 3,
   "id": "cd36a84b",
   "metadata": {},
   "outputs": [
    {
     "data": {
      "text/plain": [
       "2.9607810808177907e-23"
      ]
     },
     "execution_count": 3,
     "metadata": {},
     "output_type": "execute_result"
    }
   ],
   "source": [
    "p=stats.t.cdf(t,df=24) # as the sample mean is less than theoretical mean we are gonna go with stats.t.cdf\n",
    "alpha=0.05\n",
    "p"
   ]
  },
  {
   "cell_type": "code",
   "execution_count": 4,
   "id": "7b4ba11b",
   "metadata": {},
   "outputs": [
    {
     "data": {
      "text/plain": [
       "1.6448536269514722"
      ]
     },
     "execution_count": 4,
     "metadata": {},
     "output_type": "execute_result"
    }
   ],
   "source": [
    "critical_value_one_tailed = stats.norm.ppf(1 - alpha)# standard normal Z distribution critical value\n",
    "critical_value_one_tailed"
   ]
  },
  {
   "cell_type": "code",
   "execution_count": 5,
   "id": "605db30e",
   "metadata": {},
   "outputs": [
    {
     "name": "stdout",
     "output_type": "stream",
     "text": [
      "Reject the Null Hypothesis, μ > 4000\n"
     ]
    }
   ],
   "source": [
    "if p>alpha:\n",
    "    print(\"Accept the Null hypothesis, μ ≤ 4000\")\n",
    "else:\n",
    "    print(\"Reject the Null Hypothesis, μ > 4000\")"
   ]
  },
  {
   "cell_type": "markdown",
   "id": "8a94a672",
   "metadata": {},
   "source": [
    "## This conclusion suggests that further investigation or adjustments to the cost model may be necessary to align with the observed data from the franchise operations.\n",
    "\n",
    "\n"
   ]
  },
  {
   "cell_type": "markdown",
   "id": "18ef920b",
   "metadata": {},
   "source": [
    "# Chi-Square Test"
   ]
  },
  {
   "cell_type": "code",
   "execution_count": 6,
   "id": "cae3386a",
   "metadata": {},
   "outputs": [],
   "source": [
    "#importing required function from the scipy librabry\n",
    "from scipy.stats import chi2_contingency\n"
   ]
  },
  {
   "cell_type": "code",
   "execution_count": 15,
   "id": "b2dff563",
   "metadata": {},
   "outputs": [],
   "source": [
    "data=[[50,80,60,30,20],[70,100,90,50,50]]"
   ]
  },
  {
   "cell_type": "code",
   "execution_count": 14,
   "id": "6b45303d",
   "metadata": {},
   "outputs": [
    {
     "data": {
      "text/plain": [
       "Chi2ContingencyResult(statistic=5.638227513227513, pvalue=0.22784371130697179, dof=4, expected_freq=array([[ 48.,  72.,  60.,  32.,  28.],\n",
       "       [ 72., 108.,  90.,  48.,  42.]]))"
      ]
     },
     "execution_count": 14,
     "metadata": {},
     "output_type": "execute_result"
    }
   ],
   "source": [
    "chi,p,df,expected = chi2_contingency(data)\n",
    "chi2_contingency(data)"
   ]
  },
  {
   "cell_type": "markdown",
   "id": "945f41af",
   "metadata": {},
   "source": [
    "### the Chi-Square test will output dof=4, not 1, because the data has 2 categories for Smart home device type and 5 categories for Customer satisfaction level, resulting in (2−1)×(5−1)=4 degrees of freedom.\n",
    "\n",
    "\n",
    "\n",
    "\n",
    "\n",
    "\n",
    "\n",
    "\n"
   ]
  },
  {
   "cell_type": "code",
   "execution_count": 18,
   "id": "03933427",
   "metadata": {},
   "outputs": [
    {
     "name": "stdout",
     "output_type": "stream",
     "text": [
      "P value is 0.22784371130697179\n",
      "the type of smart home device purchased (Smart Thermostats vs. Smart Lights) and the customer satisfaction level are independent of each other(Accept Null Hypothesis)\n"
     ]
    }
   ],
   "source": [
    "alpha = 0.05\n",
    "print(\"P value is \" +str(p))\n",
    "if p>alpha:\n",
    "    print(\"The type of smart home device purchased (Smart Thermostats vs. Smart Lights) and the customer satisfaction level are independent of each other(Accept Null Hypothesis)\")\n",
    "else:\n",
    "    print(\"They are related (Reject Null Hypothesis)\")"
   ]
  },
  {
   "cell_type": "code",
   "execution_count": 22,
   "id": "bf9a881d",
   "metadata": {},
   "outputs": [
    {
     "data": {
      "text/plain": [
       "9.487729036781154"
      ]
     },
     "execution_count": 22,
     "metadata": {},
     "output_type": "execute_result"
    }
   ],
   "source": [
    "from scipy.stats import chi2\n",
    "dof=4\n",
    "alpha=0.05\n",
    "critical_value = chi2.ppf(1 - alpha, dof)\n",
    "critical_value"
   ]
  },
  {
   "cell_type": "markdown",
   "id": "df9c7d19",
   "metadata": {},
   "source": [
    "### The Chi-Square test (χ² = 5.638227513227513 , p =0.22784371130697179 , dof = 4) indicates that we fail to reject  the null hypothesis at α = 0.05, suggesting that there is not a significant association between the type of smart home device purchased and customer satisfaction levels.\n",
    "\n"
   ]
  }
 ],
 "metadata": {
  "kernelspec": {
   "display_name": "Python 3 (ipykernel)",
   "language": "python",
   "name": "python3"
  },
  "language_info": {
   "codemirror_mode": {
    "name": "ipython",
    "version": 3
   },
   "file_extension": ".py",
   "mimetype": "text/x-python",
   "name": "python",
   "nbconvert_exporter": "python",
   "pygments_lexer": "ipython3",
   "version": "3.11.5"
  }
 },
 "nbformat": 4,
 "nbformat_minor": 5
}
