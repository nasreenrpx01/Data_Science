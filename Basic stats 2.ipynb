{
 "cells": [
  {
   "cell_type": "code",
   "execution_count": 1,
   "id": "968c0b17",
   "metadata": {},
   "outputs": [],
   "source": [
    "import pandas as pd\n",
    "import numpy as np\n",
    "from scipy import stats\n"
   ]
  },
  {
   "cell_type": "code",
   "execution_count": 2,
   "id": "33c66006",
   "metadata": {},
   "outputs": [
    {
     "data": {
      "text/plain": [
       "array([1.13, 1.55, 1.43, 0.92, 1.25, 1.36, 1.32, 0.85, 1.07, 1.48, 1.2 ,\n",
       "       1.33, 1.18, 1.22, 1.29])"
      ]
     },
     "execution_count": 2,
     "metadata": {},
     "output_type": "execute_result"
    }
   ],
   "source": [
    "data=np.array([1.13, 1.55, 1.43, 0.92, 1.25, 1.36, 1.32, 0.85, 1.07, 1.48, 1.20, 1.33, 1.18, 1.22, 1.29])\n",
    "data"
   ]
  },
  {
   "cell_type": "code",
   "execution_count": 3,
   "id": "d8f73013",
   "metadata": {},
   "outputs": [
    {
     "data": {
      "text/plain": [
       "15"
      ]
     },
     "execution_count": 3,
     "metadata": {},
     "output_type": "execute_result"
    }
   ],
   "source": [
    "n =len(data)\n",
    "n"
   ]
  },
  {
   "cell_type": "markdown",
   "id": "140a4293",
   "metadata": {},
   "source": [
    "# Task a"
   ]
  },
  {
   "cell_type": "code",
   "execution_count": 4,
   "id": "fe5cd2a3",
   "metadata": {},
   "outputs": [],
   "source": [
    "T_s=stats.t.ppf(0.995,df=14)"
   ]
  },
  {
   "cell_type": "code",
   "execution_count": 5,
   "id": "4b801c31",
   "metadata": {},
   "outputs": [
    {
     "data": {
      "text/plain": [
       "1.2386666666666666"
      ]
     },
     "execution_count": 5,
     "metadata": {},
     "output_type": "execute_result"
    }
   ],
   "source": [
    "d_mean=np.mean(data)\n",
    "d_mean"
   ]
  },
  {
   "cell_type": "code",
   "execution_count": 6,
   "id": "f4f39774",
   "metadata": {},
   "outputs": [
    {
     "data": {
      "text/plain": [
       "0.19316412956959936"
      ]
     },
     "execution_count": 6,
     "metadata": {},
     "output_type": "execute_result"
    }
   ],
   "source": [
    "d_std=np.std(data, ddof=1)\n",
    "d_std"
   ]
  },
  {
   "cell_type": "code",
   "execution_count": 7,
   "id": "fd08a7d2",
   "metadata": {},
   "outputs": [
    {
     "data": {
      "text/plain": [
       "0.1484693282152996"
      ]
     },
     "execution_count": 7,
     "metadata": {},
     "output_type": "execute_result"
    }
   ],
   "source": [
    "margin_of_error= T_s*d_std/(np.sqrt(n))\n",
    "margin_of_error"
   ]
  },
  {
   "cell_type": "code",
   "execution_count": 8,
   "id": "6958cd27",
   "metadata": {},
   "outputs": [
    {
     "data": {
      "text/plain": [
       "(1.090197338451367, 1.3871359948819662)"
      ]
     },
     "execution_count": 8,
     "metadata": {},
     "output_type": "execute_result"
    }
   ],
   "source": [
    "confidence_interval = (d_mean - margin_of_error, d_mean + margin_of_error)\n",
    "confidence_interval"
   ]
  },
  {
   "cell_type": "code",
   "execution_count": 9,
   "id": "38f19769",
   "metadata": {
    "scrolled": true
   },
   "outputs": [
    {
     "name": "stdout",
     "output_type": "stream",
     "text": [
      "99% Confidence Interval using Sample Standard Deviation: (1.090197338451367, 1.3871359948819662)\n"
     ]
    }
   ],
   "source": [
    "print(\"99% Confidence Interval using Sample Standard Deviation:\", confidence_interval)"
   ]
  },
  {
   "cell_type": "code",
   "execution_count": 10,
   "id": "13560f64",
   "metadata": {},
   "outputs": [
    {
     "data": {
      "text/plain": [
       "(1.090197338451367, 1.3871359948819662)"
      ]
     },
     "execution_count": 10,
     "metadata": {},
     "output_type": "execute_result"
    }
   ],
   "source": [
    "intervalA=stats.t.interval(0.99,df=14,loc=d_mean,scale=d_std/(np.sqrt(n)))\n",
    "intervalA #shortcut way"
   ]
  },
  {
   "cell_type": "markdown",
   "id": "d815eccf",
   "metadata": {},
   "source": [
    "# Task b"
   ]
  },
  {
   "cell_type": "code",
   "execution_count": 11,
   "id": "dc541585",
   "metadata": {},
   "outputs": [],
   "source": [
    "p_std=0.2 #given"
   ]
  },
  {
   "cell_type": "code",
   "execution_count": 12,
   "id": "6bec5de3",
   "metadata": {},
   "outputs": [
    {
     "data": {
      "text/plain": [
       "2.5758293035489004"
      ]
     },
     "execution_count": 12,
     "metadata": {},
     "output_type": "execute_result"
    }
   ],
   "source": [
    "Z_s=stats.norm.ppf(0.995)\n",
    "Z_s"
   ]
  },
  {
   "cell_type": "code",
   "execution_count": 13,
   "id": "be09cbbf",
   "metadata": {},
   "outputs": [
    {
     "data": {
      "text/plain": [
       "0.13301525327090588"
      ]
     },
     "execution_count": 13,
     "metadata": {},
     "output_type": "execute_result"
    }
   ],
   "source": [
    "margin_of_error1=Z_s*p_std/(np.sqrt(n))\n",
    "margin_of_error1"
   ]
  },
  {
   "cell_type": "code",
   "execution_count": 14,
   "id": "aac27e89",
   "metadata": {},
   "outputs": [
    {
     "data": {
      "text/plain": [
       "(1.1056514133957607, 1.3716819199375725)"
      ]
     },
     "execution_count": 14,
     "metadata": {},
     "output_type": "execute_result"
    }
   ],
   "source": [
    "Confidence_interval1=(d_mean - margin_of_error1, d_mean + margin_of_error1)\n",
    "Confidence_interval1"
   ]
  },
  {
   "cell_type": "code",
   "execution_count": 15,
   "id": "a9af0e00",
   "metadata": {},
   "outputs": [
    {
     "name": "stdout",
     "output_type": "stream",
     "text": [
      "99% Confidence Interval using Population Standard Deviation: (1.1056514133957607, 1.3716819199375725)\n"
     ]
    }
   ],
   "source": [
    "print(\"99% Confidence Interval using Population Standard Deviation:\", Confidence_interval1)"
   ]
  },
  {
   "cell_type": "code",
   "execution_count": 16,
   "id": "7d168dac",
   "metadata": {},
   "outputs": [
    {
     "data": {
      "text/plain": [
       "(1.1056514133957607, 1.3716819199375725)"
      ]
     },
     "execution_count": 16,
     "metadata": {},
     "output_type": "execute_result"
    }
   ],
   "source": [
    "intervalB=stats.norm.interval(0.99,loc=d_mean,scale=p_std/(np.sqrt(n)))\n",
    "intervalB #shortcut way"
   ]
  }
 ],
 "metadata": {
  "kernelspec": {
   "display_name": "Python 3 (ipykernel)",
   "language": "python",
   "name": "python3"
  },
  "language_info": {
   "codemirror_mode": {
    "name": "ipython",
    "version": 3
   },
   "file_extension": ".py",
   "mimetype": "text/x-python",
   "name": "python",
   "nbconvert_exporter": "python",
   "pygments_lexer": "ipython3",
   "version": "3.11.5"
  }
 },
 "nbformat": 4,
 "nbformat_minor": 5
}
