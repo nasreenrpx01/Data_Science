{
 "cells": [
  {
   "cell_type": "markdown",
   "id": "7d6eec59",
   "metadata": {},
   "source": [
    "# Exercise 1 solution"
   ]
  },
  {
   "cell_type": "code",
   "execution_count": 1,
   "id": "4e88c505",
   "metadata": {},
   "outputs": [
    {
     "name": "stdout",
     "output_type": "stream",
     "text": [
      "Enter a number: 78\n",
      "78 is not a prime number\n"
     ]
    }
   ],
   "source": [
    "# Program to check if a number is prime or not\n",
    "# Input from the user\n",
    "num = int(input(\"Enter a number: \"))\n",
    "if num > 1:  \n",
    "   for i in range(2,num):\n",
    "       if (num % i) == 0:\n",
    "           print(num,\"is not a prime number\")\n",
    "           break\n",
    "   else:\n",
    "       print(num,\"is a prime number\")\n",
    "       \n",
    "else:\n",
    "   print(num,\"is not a prime number\")"
   ]
  },
  {
   "cell_type": "markdown",
   "id": "f6f40726",
   "metadata": {},
   "source": [
    "# Exercise 2 solution"
   ]
  },
  {
   "cell_type": "code",
   "execution_count": 6,
   "id": "c4c76375",
   "metadata": {},
   "outputs": [
    {
     "name": "stdout",
     "output_type": "stream",
     "text": [
      "Product of 12 and 20 is:23\n",
      "Go back to study\n"
     ]
    }
   ],
   "source": [
    "# Import the 'random' module to generate random integers\n",
    "import random\n",
    "\n",
    "# Generate two random integers between 1 and 50\n",
    "num1 = random.randint(1, 50)\n",
    "num2 = random.randint(1, 50)\n",
    "\n",
    "# Prompt the user to input the product of the two random numbers\n",
    "num = int(input(f\"Product of {num1} and {num2} is:\"))\n",
    "\n",
    "# Check if the user's input matches the actual product of the two numbers\n",
    "if num == num1 * num2:\n",
    "    # If the input matches, print a compliment\n",
    "    print(\"Oh you Asian smart boi\")\n",
    "else:\n",
    "    # If the input does not match, print an encouragement to study\n",
    "    print(\"Go back to study\")\n"
   ]
  },
  {
   "cell_type": "markdown",
   "id": "9999a910",
   "metadata": {},
   "source": [
    "# Exercise 3 solution"
   ]
  },
  {
   "cell_type": "code",
   "execution_count": 5,
   "id": "7552e36e",
   "metadata": {},
   "outputs": [
    {
     "name": "stdout",
     "output_type": "stream",
     "text": [
      "odd or even: even\n",
      "Squared even numbers from 100 to 200: [10000, 10404, 10816, 11236, 11664, 12100, 12544, 12996, 13456, 13924, 14400, 14884, 15376, 15876, 16384, 16900, 17424, 17956, 18496, 19044, 19600, 20164, 20736, 21316, 21904, 22500, 23104, 23716, 24336, 24964, 25600, 26244, 26896, 27556, 28224, 28900, 29584, 30276, 30976, 31684, 32400, 33124, 33856, 34596, 35344, 36100, 36864, 37636, 38416, 39204, 40000]\n"
     ]
    }
   ],
   "source": [
    "# Generate a list of odd numbers between 100 and 200 using list comprehension\n",
    "odd_numbers = [num for num in range(100, 201) if num % 2 != 0]\n",
    "\n",
    "# Generate a list of even numbers between 100 and 200 using list comprehension\n",
    "even_numbers = [num for num in range(100, 201) if num % 2 == 0]\n",
    "\n",
    "# Prompt the user to choose between odd or even numbers\n",
    "choice = input(\"odd or even: \")\n",
    "\n",
    "# If the user chooses 'odd', square each odd number and print the squared list\n",
    "if choice == \"odd\":\n",
    "    # Square each odd number using list comprehension\n",
    "    sqrd_list = [x ** 2 for x in odd_numbers]\n",
    "    # Print the squared odd numbers\n",
    "    print(\"Squared odd numbers from 100 to 200:\", sqrd_list)\n",
    "# If the user chooses 'even', square each even number and print the squared list\n",
    "else:\n",
    "    # Square each even number using list comprehension\n",
    "    sqrd_lst = [x ** 2 for x in even_numbers]\n",
    "    # Print the squared even numbers\n",
    "    print(\"Squared even numbers from 100 to 200:\", sqrd_lst)\n"
   ]
  },
  {
   "cell_type": "markdown",
   "id": "22c0d628",
   "metadata": {},
   "source": [
    "# Exercise 4 solution"
   ]
  },
  {
   "cell_type": "code",
   "execution_count": 4,
   "id": "af7efaaa",
   "metadata": {},
   "outputs": [
    {
     "name": "stdout",
     "output_type": "stream",
     "text": [
      "'This': 2\n",
      "'is': 1\n",
      "'a': 1\n",
      "'sample': 1\n",
      "'text.': 1\n",
      "'text': 1\n",
      "'will': 1\n",
      "'be': 1\n",
      "'used': 1\n",
      "'to': 1\n",
      "'demonstrate': 1\n",
      "'the': 1\n",
      "'word': 1\n",
      "'counter.': 1\n"
     ]
    }
   ],
   "source": [
    "def count_words(text):\n",
    "    # Split the text into words\n",
    "    words = text.split()\n",
    "\n",
    "    # Create a dictionary to store word counts\n",
    "    word_counts = {}\n",
    "\n",
    "    # Count occurrences of each word\n",
    "    for word in words:\n",
    "        word_counts[word] = word_counts.get(word, 0) + 1\n",
    "\n",
    "    # Print the word counts\n",
    "    for word, count in word_counts.items():\n",
    "        print(f\"'{word}': {count}\")\n",
    "\n",
    "# Test the function\n",
    "input_text = \"This is a sample text. This text will be used to demonstrate the word counter.\"\n",
    "count_words(input_text)"
   ]
  },
  {
   "cell_type": "markdown",
   "id": "f9561d45",
   "metadata": {},
   "source": [
    "# Exercise 5 solution"
   ]
  },
  {
   "cell_type": "code",
   "execution_count": 9,
   "id": "df466ad5",
   "metadata": {},
   "outputs": [
    {
     "name": "stdout",
     "output_type": "stream",
     "text": [
      "Enter text or number to check if it's a palindrome: 787\n",
      "True\n"
     ]
    }
   ],
   "source": [
    "# Prompt the user to enter a string or number to check if it's a palindrome\n",
    "x = input(\"Enter text or number to check if it's a palindrome: \")\n",
    "\n",
    "# Check if the input string is equal to its reverse\n",
    "# If it is a palindrome, print \"True\"; otherwise, print \"False\"\n",
    "print(\"True\" if x == x[::-1] else \"False\")"
   ]
  }
 ],
 "metadata": {
  "kernelspec": {
   "display_name": "Python 3 (ipykernel)",
   "language": "python",
   "name": "python3"
  },
  "language_info": {
   "codemirror_mode": {
    "name": "ipython",
    "version": 3
   },
   "file_extension": ".py",
   "mimetype": "text/x-python",
   "name": "python",
   "nbconvert_exporter": "python",
   "pygments_lexer": "ipython3",
   "version": "3.11.5"
  }
 },
 "nbformat": 4,
 "nbformat_minor": 5
}
